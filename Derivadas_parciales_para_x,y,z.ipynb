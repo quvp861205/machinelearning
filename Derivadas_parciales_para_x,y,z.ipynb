{
  "nbformat": 4,
  "nbformat_minor": 0,
  "metadata": {
    "colab": {
      "name": "Derivadas parciales para x,y,z.ipynb",
      "provenance": [],
      "authorship_tag": "ABX9TyOuBJHXnhE+OC7MolrxFXTP",
      "include_colab_link": true
    },
    "kernelspec": {
      "name": "python3",
      "display_name": "Python 3"
    },
    "language_info": {
      "name": "python"
    }
  },
  "cells": [
    {
      "cell_type": "markdown",
      "metadata": {
        "id": "view-in-github",
        "colab_type": "text"
      },
      "source": [
        "<a href=\"https://colab.research.google.com/github/quvp861205/machinelearning/blob/master/Derivadas_parciales_para_x%2Cy%2Cz.ipynb\" target=\"_parent\"><img src=\"https://colab.research.google.com/assets/colab-badge.svg\" alt=\"Open In Colab\"/></a>"
      ]
    },
    {
      "cell_type": "code",
      "metadata": {
        "colab": {
          "base_uri": "https://localhost:8080/"
        },
        "id": "ErV8GZqKtzmH",
        "outputId": "6b33b0a1-e367-4310-e661-e32044fdc2fd"
      },
      "source": [
        "#Obtener las derivadas parciales para el eje x, y, z de una grafica 3dmiensional\n",
        "from math import *\n",
        "import sympy as sp\n",
        "\n",
        "\n",
        "def derivada(expr, variables):\n",
        "    for der_respect in variables:\n",
        "        var = sp.Symbol(f'{der_respect}')\n",
        "        funcion = sp.Derivative(expr, var, evaluate=True)\n",
        "        print(f'La derivada parcial df/d{der_respect} =  {funcion}')\n",
        "\n",
        "\n",
        "if __name__ == '__main__':\n",
        "    variables = ['x', 'y', 'z']\n",
        "    expr = input(\"\\nFuncion a evaluar:    f(x,y,z)=\")\n",
        "    derivada(expr, variables)\n",
        "\n",
        "    #funcion a evaluar y*cos(x)+3*x*(z**2)*log(y)"
      ],
      "execution_count": 1,
      "outputs": [
        {
          "output_type": "stream",
          "name": "stdout",
          "text": [
            "\n",
            "Funcion a evaluar:    f(x,y,z)=y*cos(x)+3*x*(z**2)*log(y)\n",
            "La derivada parcial df/dx =  -y*sin(x) + 3*z**2*log(y)\n",
            "La derivada parcial df/dy =  3*x*z**2/y + cos(x)\n",
            "La derivada parcial df/dz =  6*x*z*log(y)\n"
          ]
        }
      ]
    }
  ]
}